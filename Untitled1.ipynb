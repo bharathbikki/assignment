{
  "nbformat": 4,
  "nbformat_minor": 0,
  "metadata": {
    "colab": {
      "name": "Untitled1.ipynb",
      "provenance": [],
      "collapsed_sections": [],
      "authorship_tag": "ABX9TyNX4HYG1VhRAKIFFTwoOJ4H",
      "include_colab_link": true
    },
    "kernelspec": {
      "name": "python3",
      "display_name": "Python 3"
    },
    "language_info": {
      "name": "python"
    }
  },
  "cells": [
    {
      "cell_type": "markdown",
      "metadata": {
        "id": "view-in-github",
        "colab_type": "text"
      },
      "source": [
        "<a href=\"https://colab.research.google.com/github/bharathbikki/assignment/blob/main/Untitled1.ipynb\" target=\"_parent\"><img src=\"https://colab.research.google.com/assets/colab-badge.svg\" alt=\"Open In Colab\"/></a>"
      ]
    },
    {
      "cell_type": "code",
      "metadata": {
        "colab": {
          "base_uri": "https://localhost:8080/",
          "height": 363
        },
        "id": "ml5uIJ4HR0PT",
        "outputId": "83f44e0f-ff1b-41cc-f4cb-2c942a5a5fd7"
      },
      "source": [
        "import numpy as np\n",
        "import pandas as pd\n",
        "import seaborn as sns\n",
        "import matplotlib as mpl\n",
        "import matplotlib.pyplot as plt\n",
        "%matplotlib inline\n",
        "\n",
        "from numpy.random import randn,randint,uniform,sample\n",
        "\n",
        "df = pd.DataFrame(randn(10,4), columns=['a','b','c','d'])\n",
        "df\n",
        "\n"
      ],
      "execution_count": 2,
      "outputs": [
        {
          "output_type": "execute_result",
          "data": {
            "text/html": [
              "<div>\n",
              "<style scoped>\n",
              "    .dataframe tbody tr th:only-of-type {\n",
              "        vertical-align: middle;\n",
              "    }\n",
              "\n",
              "    .dataframe tbody tr th {\n",
              "        vertical-align: top;\n",
              "    }\n",
              "\n",
              "    .dataframe thead th {\n",
              "        text-align: right;\n",
              "    }\n",
              "</style>\n",
              "<table border=\"1\" class=\"dataframe\">\n",
              "  <thead>\n",
              "    <tr style=\"text-align: right;\">\n",
              "      <th></th>\n",
              "      <th>a</th>\n",
              "      <th>b</th>\n",
              "      <th>c</th>\n",
              "      <th>d</th>\n",
              "    </tr>\n",
              "  </thead>\n",
              "  <tbody>\n",
              "    <tr>\n",
              "      <th>0</th>\n",
              "      <td>0.714132</td>\n",
              "      <td>-2.087925</td>\n",
              "      <td>1.031926</td>\n",
              "      <td>0.226273</td>\n",
              "    </tr>\n",
              "    <tr>\n",
              "      <th>1</th>\n",
              "      <td>-0.611073</td>\n",
              "      <td>0.284697</td>\n",
              "      <td>1.713004</td>\n",
              "      <td>-2.302507</td>\n",
              "    </tr>\n",
              "    <tr>\n",
              "      <th>2</th>\n",
              "      <td>0.722642</td>\n",
              "      <td>-0.978344</td>\n",
              "      <td>2.422446</td>\n",
              "      <td>-1.081611</td>\n",
              "    </tr>\n",
              "    <tr>\n",
              "      <th>3</th>\n",
              "      <td>1.313908</td>\n",
              "      <td>-0.899690</td>\n",
              "      <td>-0.479586</td>\n",
              "      <td>-0.117268</td>\n",
              "    </tr>\n",
              "    <tr>\n",
              "      <th>4</th>\n",
              "      <td>-1.500206</td>\n",
              "      <td>-0.943569</td>\n",
              "      <td>-1.024884</td>\n",
              "      <td>0.677235</td>\n",
              "    </tr>\n",
              "    <tr>\n",
              "      <th>5</th>\n",
              "      <td>-0.023127</td>\n",
              "      <td>-0.742070</td>\n",
              "      <td>1.630768</td>\n",
              "      <td>0.438576</td>\n",
              "    </tr>\n",
              "    <tr>\n",
              "      <th>6</th>\n",
              "      <td>-1.535101</td>\n",
              "      <td>0.197595</td>\n",
              "      <td>-0.180351</td>\n",
              "      <td>0.056926</td>\n",
              "    </tr>\n",
              "    <tr>\n",
              "      <th>7</th>\n",
              "      <td>-0.546489</td>\n",
              "      <td>-0.756690</td>\n",
              "      <td>-0.583747</td>\n",
              "      <td>-1.547107</td>\n",
              "    </tr>\n",
              "    <tr>\n",
              "      <th>8</th>\n",
              "      <td>1.306977</td>\n",
              "      <td>-0.103757</td>\n",
              "      <td>0.497515</td>\n",
              "      <td>1.367167</td>\n",
              "    </tr>\n",
              "    <tr>\n",
              "      <th>9</th>\n",
              "      <td>0.978790</td>\n",
              "      <td>0.707876</td>\n",
              "      <td>0.798791</td>\n",
              "      <td>-2.241085</td>\n",
              "    </tr>\n",
              "  </tbody>\n",
              "</table>\n",
              "</div>"
            ],
            "text/plain": [
              "          a         b         c         d\n",
              "0  0.714132 -2.087925  1.031926  0.226273\n",
              "1 -0.611073  0.284697  1.713004 -2.302507\n",
              "2  0.722642 -0.978344  2.422446 -1.081611\n",
              "3  1.313908 -0.899690 -0.479586 -0.117268\n",
              "4 -1.500206 -0.943569 -1.024884  0.677235\n",
              "5 -0.023127 -0.742070  1.630768  0.438576\n",
              "6 -1.535101  0.197595 -0.180351  0.056926\n",
              "7 -0.546489 -0.756690 -0.583747 -1.547107\n",
              "8  1.306977 -0.103757  0.497515  1.367167\n",
              "9  0.978790  0.707876  0.798791 -2.241085"
            ]
          },
          "metadata": {
            "tags": []
          },
          "execution_count": 2
        }
      ]
    },
    {
      "cell_type": "code",
      "metadata": {
        "colab": {
          "base_uri": "https://localhost:8080/",
          "height": 512
        },
        "id": "XU9oAOsfSCHI",
        "outputId": "96840070-dc53-497e-83c0-d147b9a752c7"
      },
      "source": [
        "\n",
        "\n",
        "df.plot(kind='bar',width=(2),figsize=(10,8))\n",
        "plt.title('Bar Graph')\n",
        "\n"
      ],
      "execution_count": 3,
      "outputs": [
        {
          "output_type": "execute_result",
          "data": {
            "text/plain": [
              "Text(0.5, 1.0, 'Bar Graph')"
            ]
          },
          "metadata": {
            "tags": []
          },
          "execution_count": 3
        },
        {
          "output_type": "display_data",
          "data": {
            "image/png": "[encoded data removed]",
            "text/plain": [
              "<Figure size 720x576 with 1 Axes>"
            ]
          },
          "metadata": {
            "tags": [],
            "needs_background": "light"
          }
        }
      ]
    },
    {
      "cell_type": "code",
      "metadata": {
        "id": "p6JpJlzQSo6f"
      },
      "source": [
        ""
      ],
      "execution_count": null,
      "outputs": []
    }
  ]
}